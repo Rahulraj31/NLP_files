{
  "nbformat": 4,
  "nbformat_minor": 0,
  "metadata": {
    "colab": {
      "name": "word2vecipynb",
      "provenance": [],
      "collapsed_sections": [],
      "toc_visible": true
    },
    "kernelspec": {
      "name": "python3",
      "display_name": "Python 3"
    },
    "language_info": {
      "name": "python"
    },
    "accelerator": "GPU"
  },
  "cells": [
    {
      "cell_type": "markdown",
      "metadata": {
        "id": "FjvatS83bQUV"
      },
      "source": [
        "# Implementing word2vec in gensim"
      ]
    },
    {
      "cell_type": "code",
      "metadata": {
        "id": "JSxmr29qOVmC"
      },
      "source": [
        "#!pip install gensim\n",
        "#!pip install python-Levenshtein"
      ],
      "execution_count": 1,
      "outputs": []
    },
    {
      "cell_type": "code",
      "metadata": {
        "id": "QJjeOPcVbX_8"
      },
      "source": [
        "import gensim\n",
        "import pandas as pd\n",
        "import tensorflow as tf"
      ],
      "execution_count": 2,
      "outputs": []
    },
    {
      "cell_type": "markdown",
      "metadata": {
        "id": "_mZoFO0abw9O"
      },
      "source": [
        "# Reading and Exploring the Dataset\n",
        "The dataset we are using here is a subset of Amazon reviews from the Cell Phones & Accessories category. The data is stored as a JSON file and can be read using pandas.\n",
        "\n",
        "Link to the Dataset: http://snap.stanford.edu/data/amazon/productGraph/categoryFiles/reviews_Cell_Phones_and_Accessories_5.json.gz"
      ]
    },
    {
      "cell_type": "code",
      "metadata": {
        "id": "I2OPXs9QgnD8",
        "colab": {
          "base_uri": "https://localhost:8080/"
        },
        "outputId": "332b9b99-845d-45aa-e5d2-877c365af8d9"
      },
      "source": [
        "from google.colab import drive\n",
        "drive.mount('/content/drive')"
      ],
      "execution_count": 3,
      "outputs": [
        {
          "output_type": "stream",
          "text": [
            "Drive already mounted at /content/drive; to attempt to forcibly remount, call drive.mount(\"/content/drive\", force_remount=True).\n"
          ],
          "name": "stdout"
        }
      ]
    },
    {
      "cell_type": "code",
      "metadata": {
        "id": "bz6Q4dj8fnSr",
        "colab": {
          "base_uri": "https://localhost:8080/",
          "height": 279
        },
        "outputId": "92dd0524-a8a7-479e-9635-82771f6e67e9"
      },
      "source": [
        "df= pd.read_json(\"/content/drive/MyDrive/Colab Notebooks/Cell_Phones_and_Accessories_5.json\", lines=True)\n",
        "df.head()"
      ],
      "execution_count": 4,
      "outputs": [
        {
          "output_type": "execute_result",
          "data": {
            "text/html": [
              "<div>\n",
              "<style scoped>\n",
              "    .dataframe tbody tr th:only-of-type {\n",
              "        vertical-align: middle;\n",
              "    }\n",
              "\n",
              "    .dataframe tbody tr th {\n",
              "        vertical-align: top;\n",
              "    }\n",
              "\n",
              "    .dataframe thead th {\n",
              "        text-align: right;\n",
              "    }\n",
              "</style>\n",
              "<table border=\"1\" class=\"dataframe\">\n",
              "  <thead>\n",
              "    <tr style=\"text-align: right;\">\n",
              "      <th></th>\n",
              "      <th>reviewerID</th>\n",
              "      <th>asin</th>\n",
              "      <th>reviewerName</th>\n",
              "      <th>helpful</th>\n",
              "      <th>reviewText</th>\n",
              "      <th>overall</th>\n",
              "      <th>summary</th>\n",
              "      <th>unixReviewTime</th>\n",
              "      <th>reviewTime</th>\n",
              "    </tr>\n",
              "  </thead>\n",
              "  <tbody>\n",
              "    <tr>\n",
              "      <th>0</th>\n",
              "      <td>A30TL5EWN6DFXT</td>\n",
              "      <td>120401325X</td>\n",
              "      <td>christina</td>\n",
              "      <td>[0, 0]</td>\n",
              "      <td>They look good and stick good! I just don't li...</td>\n",
              "      <td>4</td>\n",
              "      <td>Looks Good</td>\n",
              "      <td>1400630400</td>\n",
              "      <td>05 21, 2014</td>\n",
              "    </tr>\n",
              "    <tr>\n",
              "      <th>1</th>\n",
              "      <td>ASY55RVNIL0UD</td>\n",
              "      <td>120401325X</td>\n",
              "      <td>emily l.</td>\n",
              "      <td>[0, 0]</td>\n",
              "      <td>These stickers work like the review says they ...</td>\n",
              "      <td>5</td>\n",
              "      <td>Really great product.</td>\n",
              "      <td>1389657600</td>\n",
              "      <td>01 14, 2014</td>\n",
              "    </tr>\n",
              "    <tr>\n",
              "      <th>2</th>\n",
              "      <td>A2TMXE2AFO7ONB</td>\n",
              "      <td>120401325X</td>\n",
              "      <td>Erica</td>\n",
              "      <td>[0, 0]</td>\n",
              "      <td>These are awesome and make my phone look so st...</td>\n",
              "      <td>5</td>\n",
              "      <td>LOVE LOVE LOVE</td>\n",
              "      <td>1403740800</td>\n",
              "      <td>06 26, 2014</td>\n",
              "    </tr>\n",
              "    <tr>\n",
              "      <th>3</th>\n",
              "      <td>AWJ0WZQYMYFQ4</td>\n",
              "      <td>120401325X</td>\n",
              "      <td>JM</td>\n",
              "      <td>[4, 4]</td>\n",
              "      <td>Item arrived in great time and was in perfect ...</td>\n",
              "      <td>4</td>\n",
              "      <td>Cute!</td>\n",
              "      <td>1382313600</td>\n",
              "      <td>10 21, 2013</td>\n",
              "    </tr>\n",
              "    <tr>\n",
              "      <th>4</th>\n",
              "      <td>ATX7CZYFXI1KW</td>\n",
              "      <td>120401325X</td>\n",
              "      <td>patrice m rogoza</td>\n",
              "      <td>[2, 3]</td>\n",
              "      <td>awesome! stays on, and looks great. can be use...</td>\n",
              "      <td>5</td>\n",
              "      <td>leopard home button sticker for iphone 4s</td>\n",
              "      <td>1359849600</td>\n",
              "      <td>02 3, 2013</td>\n",
              "    </tr>\n",
              "  </tbody>\n",
              "</table>\n",
              "</div>"
            ],
            "text/plain": [
              "       reviewerID        asin  ... unixReviewTime   reviewTime\n",
              "0  A30TL5EWN6DFXT  120401325X  ...     1400630400  05 21, 2014\n",
              "1   ASY55RVNIL0UD  120401325X  ...     1389657600  01 14, 2014\n",
              "2  A2TMXE2AFO7ONB  120401325X  ...     1403740800  06 26, 2014\n",
              "3   AWJ0WZQYMYFQ4  120401325X  ...     1382313600  10 21, 2013\n",
              "4   ATX7CZYFXI1KW  120401325X  ...     1359849600   02 3, 2013\n",
              "\n",
              "[5 rows x 9 columns]"
            ]
          },
          "metadata": {
            "tags": []
          },
          "execution_count": 4
        }
      ]
    },
    {
      "cell_type": "code",
      "metadata": {
        "colab": {
          "base_uri": "https://localhost:8080/"
        },
        "id": "PUq029P8iGes",
        "outputId": "f0d58241-fc91-409b-862a-551bd1479d47"
      },
      "source": [
        "df.shape"
      ],
      "execution_count": 5,
      "outputs": [
        {
          "output_type": "execute_result",
          "data": {
            "text/plain": [
              "(194439, 9)"
            ]
          },
          "metadata": {
            "tags": []
          },
          "execution_count": 5
        }
      ]
    },
    {
      "cell_type": "code",
      "metadata": {
        "colab": {
          "base_uri": "https://localhost:8080/",
          "height": 52
        },
        "id": "e1VNp1f1iyHk",
        "outputId": "d1a4e369-84be-4007-9887-dbf14405fac9"
      },
      "source": [
        "df.reviewText[0]"
      ],
      "execution_count": 6,
      "outputs": [
        {
          "output_type": "execute_result",
          "data": {
            "application/vnd.google.colaboratory.intrinsic+json": {
              "type": "string"
            },
            "text/plain": [
              "\"They look good and stick good! I just don't like the rounded shape because I was always bumping it and Siri kept popping up and it was irritating. I just won't buy a product like this again\""
            ]
          },
          "metadata": {
            "tags": []
          },
          "execution_count": 6
        }
      ]
    },
    {
      "cell_type": "markdown",
      "metadata": {
        "id": "ohIydBXVi-PS"
      },
      "source": [
        "Now we do pre processing for doing word2vec i.e. removing stop words like a, and ,the, it, was etc \n",
        "\n",
        "And converting all texts to lowercase, removing trailing spaces, punctuation marks\n",
        "\n",
        "So for this we will use gemsin "
      ]
    },
    {
      "cell_type": "code",
      "metadata": {
        "colab": {
          "base_uri": "https://localhost:8080/"
        },
        "id": "huljnMp_i9kC",
        "outputId": "9e01846c-3a51-4d3a-a11d-53e15535c983"
      },
      "source": [
        "# example\n",
        "gensim.utils.simple_preprocess(\"They look good and stick good! I just don't like the rounded shape because I was always bumping it and Siri kept popping up and it was irritating. I just won't buy a product like this again\")"
      ],
      "execution_count": 7,
      "outputs": [
        {
          "output_type": "execute_result",
          "data": {
            "text/plain": [
              "['they',\n",
              " 'look',\n",
              " 'good',\n",
              " 'and',\n",
              " 'stick',\n",
              " 'good',\n",
              " 'just',\n",
              " 'don',\n",
              " 'like',\n",
              " 'the',\n",
              " 'rounded',\n",
              " 'shape',\n",
              " 'because',\n",
              " 'was',\n",
              " 'always',\n",
              " 'bumping',\n",
              " 'it',\n",
              " 'and',\n",
              " 'siri',\n",
              " 'kept',\n",
              " 'popping',\n",
              " 'up',\n",
              " 'and',\n",
              " 'it',\n",
              " 'was',\n",
              " 'irritating',\n",
              " 'just',\n",
              " 'won',\n",
              " 'buy',\n",
              " 'product',\n",
              " 'like',\n",
              " 'this',\n",
              " 'again']"
            ]
          },
          "metadata": {
            "tags": []
          },
          "execution_count": 7
        }
      ]
    },
    {
      "cell_type": "code",
      "metadata": {
        "colab": {
          "base_uri": "https://localhost:8080/"
        },
        "id": "DGBuaS3Ii5sb",
        "outputId": "f4e491a7-3f18-4006-fd28-d9b0a34c303a"
      },
      "source": [
        "review_text=df.reviewText.apply(gensim.utils.simple_preprocess)\n",
        "review_text.head()"
      ],
      "execution_count": 8,
      "outputs": [
        {
          "output_type": "execute_result",
          "data": {
            "text/plain": [
              "0    [they, look, good, and, stick, good, just, don...\n",
              "1    [these, stickers, work, like, the, review, say...\n",
              "2    [these, are, awesome, and, make, my, phone, lo...\n",
              "3    [item, arrived, in, great, time, and, was, in,...\n",
              "4    [awesome, stays, on, and, looks, great, can, b...\n",
              "Name: reviewText, dtype: object"
            ]
          },
          "metadata": {
            "tags": []
          },
          "execution_count": 8
        }
      ]
    },
    {
      "cell_type": "markdown",
      "metadata": {
        "id": "VQFp1l_OuEkS"
      },
      "source": [
        "\n",
        "## Training the Word2Vec Model\n",
        "Train the model for reviews. Use a window of size 10 i.e. 10 words before the present word and 10 words ahead. A sentence with at least 2 words should only be considered, configure this using min_count parameter.\n",
        "\n",
        "Workers define how many CPU threads to be used."
      ]
    },
    {
      "cell_type": "code",
      "metadata": {
        "id": "g9AhF0rDp9Vm"
      },
      "source": [
        "model = gensim.models.Word2Vec(\n",
        "    window=10,  \n",
        "    min_count=2, \n",
        "    workers=4 \n",
        "    \n",
        ")"
      ],
      "execution_count": 9,
      "outputs": []
    },
    {
      "cell_type": "code",
      "metadata": {
        "id": "13i6UuWFsdbd"
      },
      "source": [
        "# building vocabulary\n",
        "model.build_vocab(review_text,progress_per=1000)"
      ],
      "execution_count": 10,
      "outputs": []
    },
    {
      "cell_type": "code",
      "metadata": {
        "colab": {
          "base_uri": "https://localhost:8080/"
        },
        "id": "jI2GSRqksw79",
        "outputId": "cbab83b3-bbcd-42c9-fd68-50430a8dc279"
      },
      "source": [
        "# by deafult models have epoch =5\n",
        "model.epochs"
      ],
      "execution_count": 11,
      "outputs": [
        {
          "output_type": "execute_result",
          "data": {
            "text/plain": [
              "5"
            ]
          },
          "metadata": {
            "tags": []
          },
          "execution_count": 11
        }
      ]
    },
    {
      "cell_type": "code",
      "metadata": {
        "colab": {
          "base_uri": "https://localhost:8080/"
        },
        "id": "ovIqANJdtHad",
        "outputId": "f3d65b9d-b461-45c3-c1ba-cd308a904d89"
      },
      "source": [
        "model.corpus_count #basically telling rows in our data to be considered for training"
      ],
      "execution_count": 12,
      "outputs": [
        {
          "output_type": "execute_result",
          "data": {
            "text/plain": [
              "194439"
            ]
          },
          "metadata": {
            "tags": []
          },
          "execution_count": 12
        }
      ]
    },
    {
      "cell_type": "code",
      "metadata": {
        "colab": {
          "base_uri": "https://localhost:8080/"
        },
        "id": "GGI4qG2Ls5_e",
        "outputId": "3bb25854-7b5e-4332-e8a0-44c21c05b15a"
      },
      "source": [
        "# training model\n",
        "model.train(review_text, total_examples= model.corpus_count, epochs=8)"
      ],
      "execution_count": 13,
      "outputs": [
        {
          "output_type": "execute_result",
          "data": {
            "text/plain": [
              "(98409319, 134190360)"
            ]
          },
          "metadata": {
            "tags": []
          },
          "execution_count": 13
        }
      ]
    },
    {
      "cell_type": "code",
      "metadata": {
        "id": "PvwG92KXtUvj"
      },
      "source": [
        "# Saving model \n",
        "model.save(\"word2vec-amazon-cell-accessories-reviews-short.model\")"
      ],
      "execution_count": 14,
      "outputs": []
    },
    {
      "cell_type": "markdown",
      "metadata": {
        "id": "X00s3zcNvClh"
      },
      "source": [
        "## Loading and Retraining\n",
        "\n",
        "You can load the model and also you can train it again o with new data or continue to train it on old data if the model is saved."
      ]
    },
    {
      "cell_type": "code",
      "metadata": {
        "id": "ZJHbw_ZnuUhG"
      },
      "source": [
        "#model = Word2Vec.load(\"word2vec.model\")\n",
        "#model.train([[\"hello\", \"world\"]], total_examples=1, epochs=1)"
      ],
      "execution_count": 15,
      "outputs": []
    },
    {
      "cell_type": "markdown",
      "metadata": {
        "id": "VWo-XEoEucBL"
      },
      "source": [
        "## Finding Similar Words and Similarity between words\n",
        "\n",
        "https://radimrehurek.com/gensim/models/word2vec.html"
      ]
    },
    {
      "cell_type": "code",
      "metadata": {
        "colab": {
          "base_uri": "https://localhost:8080/"
        },
        "id": "xMeuzG_jvq1n",
        "outputId": "21a23b0b-7db1-4a90-e1af-bcdb6d8f018d"
      },
      "source": [
        "model.wv.most_similar(\"bad\")"
      ],
      "execution_count": 16,
      "outputs": [
        {
          "output_type": "execute_result",
          "data": {
            "text/plain": [
              "[('terrible', 0.6711597442626953),\n",
              " ('shabby', 0.6547224521636963),\n",
              " ('horrible', 0.5940072536468506),\n",
              " ('good', 0.580632209777832),\n",
              " ('funny', 0.5547348260879517),\n",
              " ('sad', 0.5392102003097534),\n",
              " ('awful', 0.5389664173126221),\n",
              " ('okay', 0.5284633636474609),\n",
              " ('disappointing', 0.5262618064880371),\n",
              " ('weird', 0.522144079208374)]"
            ]
          },
          "metadata": {
            "tags": []
          },
          "execution_count": 16
        }
      ]
    },
    {
      "cell_type": "markdown",
      "metadata": {
        "id": "-YuLHlwAv1oq"
      },
      "source": [
        "Not perfect but still powerful"
      ]
    },
    {
      "cell_type": "code",
      "metadata": {
        "colab": {
          "base_uri": "https://localhost:8080/"
        },
        "id": "NHLRUnvSvvtl",
        "outputId": "4b3c66f7-76a3-41a7-9506-1398081e61cc"
      },
      "source": [
        "model.wv.similarity(w1=\"cheap\",w2=\"inexpensive\") #calculate cosine similarity"
      ],
      "execution_count": 17,
      "outputs": [
        {
          "output_type": "execute_result",
          "data": {
            "text/plain": [
              "0.5522058"
            ]
          },
          "metadata": {
            "tags": []
          },
          "execution_count": 17
        }
      ]
    },
    {
      "cell_type": "code",
      "metadata": {
        "colab": {
          "base_uri": "https://localhost:8080/"
        },
        "id": "DxkDxlXawHoG",
        "outputId": "edfdfc50-a6df-4236-e71b-a99f83587ce3"
      },
      "source": [
        "model.wv.similarity(w1=\"great\",w2=\"product\")"
      ],
      "execution_count": 18,
      "outputs": [
        {
          "output_type": "execute_result",
          "data": {
            "text/plain": [
              "-0.046115596"
            ]
          },
          "metadata": {
            "tags": []
          },
          "execution_count": 18
        }
      ]
    },
    {
      "cell_type": "code",
      "metadata": {
        "colab": {
          "base_uri": "https://localhost:8080/"
        },
        "id": "YtnvilX5wUbO",
        "outputId": "2de1374e-e01d-4b11-f19c-d4e960c85373"
      },
      "source": [
        "model.wv.similarity(w1=\"great\",w2=\"awsome\")"
      ],
      "execution_count": 19,
      "outputs": [
        {
          "output_type": "execute_result",
          "data": {
            "text/plain": [
              "0.670774"
            ]
          },
          "metadata": {
            "tags": []
          },
          "execution_count": 19
        }
      ]
    },
    {
      "cell_type": "code",
      "metadata": {
        "colab": {
          "base_uri": "https://localhost:8080/"
        },
        "id": "ZkhZ2JVjwal2",
        "outputId": "36ba9cde-9eae-415b-e888-30c1c0c24ede"
      },
      "source": [
        "model.wv.similarity(w1=\"great\",w2=\"great\")"
      ],
      "execution_count": 20,
      "outputs": [
        {
          "output_type": "execute_result",
          "data": {
            "text/plain": [
              "1.0"
            ]
          },
          "metadata": {
            "tags": []
          },
          "execution_count": 20
        }
      ]
    },
    {
      "cell_type": "code",
      "metadata": {
        "id": "Soob2dwczFcv"
      },
      "source": [
        ""
      ],
      "execution_count": 20,
      "outputs": []
    }
  ]
}